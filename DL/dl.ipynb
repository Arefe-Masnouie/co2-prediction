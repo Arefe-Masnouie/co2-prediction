{
 "cells": [
  {
   "cell_type": "code",
   "execution_count": 6,
   "metadata": {},
   "outputs": [],
   "source": [
    "\n",
    "\n",
    "import pandas as pd\n",
    "import numpy as np\n",
    "import matplotlib.pyplot as plt\n",
    "import seaborn as sns\n",
    "from keras.models import Sequential\n",
    "from keras.layers import Dense\n",
    "from sklearn.model_selection import train_test_split"
   ]
  },
  {
   "cell_type": "code",
   "execution_count": 17,
   "metadata": {},
   "outputs": [],
   "source": [
    "#making a sequential model\n",
    "model = Sequential()"
   ]
  },
  {
   "cell_type": "code",
   "execution_count": 18,
   "metadata": {},
   "outputs": [],
   "source": [
    "#adding layers to the model\n",
    "model.add(Dense(20, input_dim = 3, activation='relu')) #input layer(dense is the number of neurons in the layer), input_dim is the number of features and activation is the activation function\n",
    "model.add(Dense(1)) #output layer"
   ]
  },
  {
   "cell_type": "code",
   "execution_count": 19,
   "metadata": {},
   "outputs": [],
   "source": [
    "#compiling the model\n",
    "#loss is the loss function, optimizer is the optimization algorithm and metrics is the metric to evaluate the model\n",
    "#mean_squared_error is the loss function used for regression problems\n",
    "model.compile(loss = 'mean_squared_error', optimizer = 'adam', metrics = ['mean_squared_error'])"
   ]
  },
  {
   "cell_type": "code",
   "execution_count": 20,
   "metadata": {},
   "outputs": [
    {
     "name": "stdout",
     "output_type": "stream",
     "text": [
      "Model: \"sequential_1\"\n",
      "_________________________________________________________________\n",
      " Layer (type)                Output Shape              Param #   \n",
      "=================================================================\n",
      " dense_2 (Dense)             (None, 20)                80        \n",
      "                                                                 \n",
      " dense_3 (Dense)             (None, 1)                 21        \n",
      "                                                                 \n",
      "=================================================================\n",
      "Total params: 101 (404.00 Byte)\n",
      "Trainable params: 101 (404.00 Byte)\n",
      "Non-trainable params: 0 (0.00 Byte)\n",
      "_________________________________________________________________\n"
     ]
    }
   ],
   "source": [
    "model.summary()"
   ]
  },
  {
   "cell_type": "code",
   "execution_count": null,
   "metadata": {},
   "outputs": [],
   "source": [
    "from keras_visualizer import visualizer\n",
    "#visualizing the model\n",
    "visualizer(model, file_format='png', view=True)"
   ]
  },
  {
   "cell_type": "code",
   "execution_count": 21,
   "metadata": {},
   "outputs": [],
   "source": [
    "df = pd.read_csv(\"co2.csv\")"
   ]
  },
  {
   "cell_type": "code",
   "execution_count": 8,
   "metadata": {},
   "outputs": [
    {
     "data": {
      "application/vnd.microsoft.datawrangler.viewer.v0+json": {
       "columns": [
        {
         "name": "index",
         "rawType": "int64",
         "type": "integer"
        },
        {
         "name": "engine",
         "rawType": "float64",
         "type": "float"
        },
        {
         "name": "cylandr",
         "rawType": "int64",
         "type": "integer"
        },
        {
         "name": "fuelcomb",
         "rawType": "float64",
         "type": "float"
        },
        {
         "name": "out1",
         "rawType": "int64",
         "type": "integer"
        }
       ],
       "conversionMethod": "pd.DataFrame",
       "ref": "ba57e456-d11e-4226-a83d-cacb0edca933",
       "rows": [
        [
         "0",
         "2.0",
         "4",
         "8.5",
         "196"
        ],
        [
         "1",
         "2.4",
         "4",
         "9.6",
         "221"
        ],
        [
         "2",
         "1.5",
         "4",
         "5.9",
         "136"
        ],
        [
         "3",
         "3.5",
         "6",
         "11.1",
         "255"
        ],
        [
         "4",
         "3.5",
         "6",
         "10.6",
         "244"
        ]
       ],
       "shape": {
        "columns": 4,
        "rows": 5
       }
      },
      "text/html": [
       "<div>\n",
       "<style scoped>\n",
       "    .dataframe tbody tr th:only-of-type {\n",
       "        vertical-align: middle;\n",
       "    }\n",
       "\n",
       "    .dataframe tbody tr th {\n",
       "        vertical-align: top;\n",
       "    }\n",
       "\n",
       "    .dataframe thead th {\n",
       "        text-align: right;\n",
       "    }\n",
       "</style>\n",
       "<table border=\"1\" class=\"dataframe\">\n",
       "  <thead>\n",
       "    <tr style=\"text-align: right;\">\n",
       "      <th></th>\n",
       "      <th>engine</th>\n",
       "      <th>cylandr</th>\n",
       "      <th>fuelcomb</th>\n",
       "      <th>out1</th>\n",
       "    </tr>\n",
       "  </thead>\n",
       "  <tbody>\n",
       "    <tr>\n",
       "      <th>0</th>\n",
       "      <td>2.0</td>\n",
       "      <td>4</td>\n",
       "      <td>8.5</td>\n",
       "      <td>196</td>\n",
       "    </tr>\n",
       "    <tr>\n",
       "      <th>1</th>\n",
       "      <td>2.4</td>\n",
       "      <td>4</td>\n",
       "      <td>9.6</td>\n",
       "      <td>221</td>\n",
       "    </tr>\n",
       "    <tr>\n",
       "      <th>2</th>\n",
       "      <td>1.5</td>\n",
       "      <td>4</td>\n",
       "      <td>5.9</td>\n",
       "      <td>136</td>\n",
       "    </tr>\n",
       "    <tr>\n",
       "      <th>3</th>\n",
       "      <td>3.5</td>\n",
       "      <td>6</td>\n",
       "      <td>11.1</td>\n",
       "      <td>255</td>\n",
       "    </tr>\n",
       "    <tr>\n",
       "      <th>4</th>\n",
       "      <td>3.5</td>\n",
       "      <td>6</td>\n",
       "      <td>10.6</td>\n",
       "      <td>244</td>\n",
       "    </tr>\n",
       "  </tbody>\n",
       "</table>\n",
       "</div>"
      ],
      "text/plain": [
       "   engine  cylandr  fuelcomb  out1\n",
       "0     2.0        4       8.5   196\n",
       "1     2.4        4       9.6   221\n",
       "2     1.5        4       5.9   136\n",
       "3     3.5        6      11.1   255\n",
       "4     3.5        6      10.6   244"
      ]
     },
     "execution_count": 8,
     "metadata": {},
     "output_type": "execute_result"
    }
   ],
   "source": [
    "df.head()"
   ]
  },
  {
   "cell_type": "code",
   "execution_count": 9,
   "metadata": {},
   "outputs": [
    {
     "data": {
      "application/vnd.microsoft.datawrangler.viewer.v0+json": {
       "columns": [
        {
         "name": "index",
         "rawType": "object",
         "type": "string"
        },
        {
         "name": "engine",
         "rawType": "float64",
         "type": "float"
        },
        {
         "name": "cylandr",
         "rawType": "float64",
         "type": "float"
        },
        {
         "name": "fuelcomb",
         "rawType": "float64",
         "type": "float"
        },
        {
         "name": "out1",
         "rawType": "float64",
         "type": "float"
        }
       ],
       "conversionMethod": "pd.DataFrame",
       "ref": "78552ddb-f96a-40f7-9454-71ce83c1de0b",
       "rows": [
        [
         "count",
         "500.0",
         "500.0",
         "500.0",
         "500.0"
        ],
        [
         "mean",
         "3.6003999999999996",
         "6.132",
         "12.476600000000001",
         "268.026"
        ],
        [
         "std",
         "1.4781914422292417",
         "1.8322910743553578",
         "3.943025150144154",
         "67.09967254847247"
        ],
        [
         "min",
         "1.0",
         "4.0",
         "4.8",
         "110.0"
        ],
        [
         "25%",
         "2.0",
         "4.0",
         "9.5",
         "217.0"
        ],
        [
         "50%",
         "3.6",
         "6.0",
         "11.649999999999999",
         "260.0"
        ],
        [
         "75%",
         "5.0",
         "8.0",
         "14.8",
         "317.0"
        ],
        [
         "max",
         "6.8",
         "12.0",
         "25.8",
         "488.0"
        ]
       ],
       "shape": {
        "columns": 4,
        "rows": 8
       }
      },
      "text/html": [
       "<div>\n",
       "<style scoped>\n",
       "    .dataframe tbody tr th:only-of-type {\n",
       "        vertical-align: middle;\n",
       "    }\n",
       "\n",
       "    .dataframe tbody tr th {\n",
       "        vertical-align: top;\n",
       "    }\n",
       "\n",
       "    .dataframe thead th {\n",
       "        text-align: right;\n",
       "    }\n",
       "</style>\n",
       "<table border=\"1\" class=\"dataframe\">\n",
       "  <thead>\n",
       "    <tr style=\"text-align: right;\">\n",
       "      <th></th>\n",
       "      <th>engine</th>\n",
       "      <th>cylandr</th>\n",
       "      <th>fuelcomb</th>\n",
       "      <th>out1</th>\n",
       "    </tr>\n",
       "  </thead>\n",
       "  <tbody>\n",
       "    <tr>\n",
       "      <th>count</th>\n",
       "      <td>500.000000</td>\n",
       "      <td>500.000000</td>\n",
       "      <td>500.000000</td>\n",
       "      <td>500.000000</td>\n",
       "    </tr>\n",
       "    <tr>\n",
       "      <th>mean</th>\n",
       "      <td>3.600400</td>\n",
       "      <td>6.132000</td>\n",
       "      <td>12.476600</td>\n",
       "      <td>268.026000</td>\n",
       "    </tr>\n",
       "    <tr>\n",
       "      <th>std</th>\n",
       "      <td>1.478191</td>\n",
       "      <td>1.832291</td>\n",
       "      <td>3.943025</td>\n",
       "      <td>67.099673</td>\n",
       "    </tr>\n",
       "    <tr>\n",
       "      <th>min</th>\n",
       "      <td>1.000000</td>\n",
       "      <td>4.000000</td>\n",
       "      <td>4.800000</td>\n",
       "      <td>110.000000</td>\n",
       "    </tr>\n",
       "    <tr>\n",
       "      <th>25%</th>\n",
       "      <td>2.000000</td>\n",
       "      <td>4.000000</td>\n",
       "      <td>9.500000</td>\n",
       "      <td>217.000000</td>\n",
       "    </tr>\n",
       "    <tr>\n",
       "      <th>50%</th>\n",
       "      <td>3.600000</td>\n",
       "      <td>6.000000</td>\n",
       "      <td>11.650000</td>\n",
       "      <td>260.000000</td>\n",
       "    </tr>\n",
       "    <tr>\n",
       "      <th>75%</th>\n",
       "      <td>5.000000</td>\n",
       "      <td>8.000000</td>\n",
       "      <td>14.800000</td>\n",
       "      <td>317.000000</td>\n",
       "    </tr>\n",
       "    <tr>\n",
       "      <th>max</th>\n",
       "      <td>6.800000</td>\n",
       "      <td>12.000000</td>\n",
       "      <td>25.800000</td>\n",
       "      <td>488.000000</td>\n",
       "    </tr>\n",
       "  </tbody>\n",
       "</table>\n",
       "</div>"
      ],
      "text/plain": [
       "           engine     cylandr    fuelcomb        out1\n",
       "count  500.000000  500.000000  500.000000  500.000000\n",
       "mean     3.600400    6.132000   12.476600  268.026000\n",
       "std      1.478191    1.832291    3.943025   67.099673\n",
       "min      1.000000    4.000000    4.800000  110.000000\n",
       "25%      2.000000    4.000000    9.500000  217.000000\n",
       "50%      3.600000    6.000000   11.650000  260.000000\n",
       "75%      5.000000    8.000000   14.800000  317.000000\n",
       "max      6.800000   12.000000   25.800000  488.000000"
      ]
     },
     "execution_count": 9,
     "metadata": {},
     "output_type": "execute_result"
    }
   ],
   "source": [
    "df.describe()"
   ]
  },
  {
   "cell_type": "code",
   "execution_count": 22,
   "metadata": {},
   "outputs": [],
   "source": [
    "x = df.drop(\"out1\", axis = 1)\n",
    "y = df[\"out1\"]"
   ]
  },
  {
   "cell_type": "code",
   "execution_count": 11,
   "metadata": {},
   "outputs": [
    {
     "data": {
      "application/vnd.microsoft.datawrangler.viewer.v0+json": {
       "columns": [
        {
         "name": "index",
         "rawType": "int64",
         "type": "integer"
        },
        {
         "name": "engine",
         "rawType": "float64",
         "type": "float"
        },
        {
         "name": "cylandr",
         "rawType": "int64",
         "type": "integer"
        },
        {
         "name": "fuelcomb",
         "rawType": "float64",
         "type": "float"
        }
       ],
       "conversionMethod": "pd.DataFrame",
       "ref": "adc85213-5003-463b-b2aa-514d78caccc4",
       "rows": [
        [
         "0",
         "2.0",
         "4",
         "8.5"
        ],
        [
         "1",
         "2.4",
         "4",
         "9.6"
        ],
        [
         "2",
         "1.5",
         "4",
         "5.9"
        ],
        [
         "3",
         "3.5",
         "6",
         "11.1"
        ],
        [
         "4",
         "3.5",
         "6",
         "10.6"
        ],
        [
         "5",
         "3.5",
         "6",
         "10.0"
        ],
        [
         "6",
         "3.5",
         "6",
         "10.1"
        ],
        [
         "7",
         "3.7",
         "6",
         "11.1"
        ],
        [
         "8",
         "3.7",
         "6",
         "11.6"
        ],
        [
         "9",
         "2.4",
         "4",
         "9.2"
        ],
        [
         "10",
         "2.4",
         "4",
         "9.8"
        ],
        [
         "11",
         "3.5",
         "6",
         "10.4"
        ],
        [
         "12",
         "1.8",
         "4",
         "8.4"
        ],
        [
         "13",
         "5.9",
         "12",
         "15.6"
        ],
        [
         "14",
         "5.9",
         "12",
         "15.6"
        ],
        [
         "15",
         "4.7",
         "8",
         "14.7"
        ],
        [
         "16",
         "4.7",
         "8",
         "15.4"
        ],
        [
         "17",
         "4.7",
         "8",
         "14.7"
        ],
        [
         "18",
         "4.7",
         "8",
         "15.4"
        ],
        [
         "19",
         "5.9",
         "12",
         "15.6"
        ],
        [
         "20",
         "2.0",
         "4",
         "8.8"
        ],
        [
         "21",
         "2.0",
         "4",
         "10.0"
        ],
        [
         "22",
         "2.0",
         "4",
         "9.3"
        ],
        [
         "23",
         "2.0",
         "4",
         "10.0"
        ],
        [
         "24",
         "2.0",
         "4",
         "10.0"
        ],
        [
         "25",
         "2.0",
         "4",
         "9.3"
        ],
        [
         "26",
         "2.0",
         "4",
         "10.2"
        ],
        [
         "27",
         "3.0",
         "6",
         "10.9"
        ],
        [
         "28",
         "3.0",
         "6",
         "8.1"
        ],
        [
         "29",
         "3.0",
         "6",
         "11.2"
        ],
        [
         "30",
         "3.0",
         "6",
         "8.1"
        ],
        [
         "31",
         "3.0",
         "6",
         "11.2"
        ],
        [
         "32",
         "4.0",
         "8",
         "11.3"
        ],
        [
         "33",
         "3.0",
         "6",
         "8.4"
        ],
        [
         "34",
         "3.0",
         "6",
         "11.2"
        ],
        [
         "35",
         "4.0",
         "8",
         "12.5"
        ],
        [
         "36",
         "6.3",
         "12",
         "15.5"
        ],
        [
         "37",
         "3.0",
         "6",
         "8.4"
        ],
        [
         "38",
         "2.0",
         "4",
         "10.5"
        ],
        [
         "39",
         "2.0",
         "4",
         "10.4"
        ],
        [
         "40",
         "3.0",
         "6",
         "11.2"
        ],
        [
         "41",
         "3.0",
         "6",
         "9.0"
        ],
        [
         "42",
         "2.0",
         "4",
         "9.2"
        ],
        [
         "43",
         "3.0",
         "6",
         "13.2"
        ],
        [
         "44",
         "3.0",
         "6",
         "10.7"
        ],
        [
         "45",
         "4.2",
         "8",
         "14.6"
        ],
        [
         "46",
         "4.2",
         "8",
         "17.7"
        ],
        [
         "47",
         "5.2",
         "10",
         "14.8"
        ],
        [
         "48",
         "5.2",
         "10",
         "17.8"
        ],
        [
         "49",
         "4.2",
         "8",
         "14.6"
        ]
       ],
       "shape": {
        "columns": 3,
        "rows": 500
       }
      },
      "text/html": [
       "<div>\n",
       "<style scoped>\n",
       "    .dataframe tbody tr th:only-of-type {\n",
       "        vertical-align: middle;\n",
       "    }\n",
       "\n",
       "    .dataframe tbody tr th {\n",
       "        vertical-align: top;\n",
       "    }\n",
       "\n",
       "    .dataframe thead th {\n",
       "        text-align: right;\n",
       "    }\n",
       "</style>\n",
       "<table border=\"1\" class=\"dataframe\">\n",
       "  <thead>\n",
       "    <tr style=\"text-align: right;\">\n",
       "      <th></th>\n",
       "      <th>engine</th>\n",
       "      <th>cylandr</th>\n",
       "      <th>fuelcomb</th>\n",
       "    </tr>\n",
       "  </thead>\n",
       "  <tbody>\n",
       "    <tr>\n",
       "      <th>0</th>\n",
       "      <td>2.0</td>\n",
       "      <td>4</td>\n",
       "      <td>8.5</td>\n",
       "    </tr>\n",
       "    <tr>\n",
       "      <th>1</th>\n",
       "      <td>2.4</td>\n",
       "      <td>4</td>\n",
       "      <td>9.6</td>\n",
       "    </tr>\n",
       "    <tr>\n",
       "      <th>2</th>\n",
       "      <td>1.5</td>\n",
       "      <td>4</td>\n",
       "      <td>5.9</td>\n",
       "    </tr>\n",
       "    <tr>\n",
       "      <th>3</th>\n",
       "      <td>3.5</td>\n",
       "      <td>6</td>\n",
       "      <td>11.1</td>\n",
       "    </tr>\n",
       "    <tr>\n",
       "      <th>4</th>\n",
       "      <td>3.5</td>\n",
       "      <td>6</td>\n",
       "      <td>10.6</td>\n",
       "    </tr>\n",
       "    <tr>\n",
       "      <th>...</th>\n",
       "      <td>...</td>\n",
       "      <td>...</td>\n",
       "      <td>...</td>\n",
       "    </tr>\n",
       "    <tr>\n",
       "      <th>495</th>\n",
       "      <td>1.5</td>\n",
       "      <td>4</td>\n",
       "      <td>6.9</td>\n",
       "    </tr>\n",
       "    <tr>\n",
       "      <th>496</th>\n",
       "      <td>1.5</td>\n",
       "      <td>4</td>\n",
       "      <td>7.5</td>\n",
       "    </tr>\n",
       "    <tr>\n",
       "      <th>497</th>\n",
       "      <td>1.5</td>\n",
       "      <td>4</td>\n",
       "      <td>7.7</td>\n",
       "    </tr>\n",
       "    <tr>\n",
       "      <th>498</th>\n",
       "      <td>3.5</td>\n",
       "      <td>6</td>\n",
       "      <td>10.6</td>\n",
       "    </tr>\n",
       "    <tr>\n",
       "      <th>499</th>\n",
       "      <td>3.6</td>\n",
       "      <td>6</td>\n",
       "      <td>10.8</td>\n",
       "    </tr>\n",
       "  </tbody>\n",
       "</table>\n",
       "<p>500 rows × 3 columns</p>\n",
       "</div>"
      ],
      "text/plain": [
       "     engine  cylandr  fuelcomb\n",
       "0       2.0        4       8.5\n",
       "1       2.4        4       9.6\n",
       "2       1.5        4       5.9\n",
       "3       3.5        6      11.1\n",
       "4       3.5        6      10.6\n",
       "..      ...      ...       ...\n",
       "495     1.5        4       6.9\n",
       "496     1.5        4       7.5\n",
       "497     1.5        4       7.7\n",
       "498     3.5        6      10.6\n",
       "499     3.6        6      10.8\n",
       "\n",
       "[500 rows x 3 columns]"
      ]
     },
     "execution_count": 11,
     "metadata": {},
     "output_type": "execute_result"
    }
   ],
   "source": [
    "x"
   ]
  },
  {
   "cell_type": "code",
   "execution_count": 12,
   "metadata": {},
   "outputs": [
    {
     "data": {
      "text/plain": [
       "0      196\n",
       "1      221\n",
       "2      136\n",
       "3      255\n",
       "4      244\n",
       "      ... \n",
       "495    159\n",
       "496    172\n",
       "497    177\n",
       "498    244\n",
       "499    246\n",
       "Name: out1, Length: 500, dtype: int64"
      ]
     },
     "execution_count": 12,
     "metadata": {},
     "output_type": "execute_result"
    }
   ],
   "source": [
    "y"
   ]
  },
  {
   "cell_type": "code",
   "execution_count": 23,
   "metadata": {},
   "outputs": [],
   "source": [
    "X_train, X_test, y_train, y_test = train_test_split(x, y, test_size = 0.2, random_state = 42)\n"
   ]
  },
  {
   "cell_type": "code",
   "execution_count": 24,
   "metadata": {},
   "outputs": [
    {
     "name": "stdout",
     "output_type": "stream",
     "text": [
      "Epoch 1/20\n",
      "40/40 [==============================] - 0s 4ms/step - loss: 73994.3516 - mean_squared_error: 73994.3516 - val_loss: 73751.9297 - val_mean_squared_error: 73751.9297\n",
      "Epoch 2/20\n",
      "40/40 [==============================] - 0s 2ms/step - loss: 71720.8125 - mean_squared_error: 71720.8125 - val_loss: 71086.8125 - val_mean_squared_error: 71086.8125\n",
      "Epoch 3/20\n",
      "40/40 [==============================] - 0s 3ms/step - loss: 68717.3750 - mean_squared_error: 68717.3750 - val_loss: 67585.8672 - val_mean_squared_error: 67585.8672\n",
      "Epoch 4/20\n",
      "40/40 [==============================] - 0s 3ms/step - loss: 64935.3008 - mean_squared_error: 64935.3008 - val_loss: 63406.1719 - val_mean_squared_error: 63406.1719\n",
      "Epoch 5/20\n",
      "40/40 [==============================] - 0s 3ms/step - loss: 60519.1602 - mean_squared_error: 60519.1602 - val_loss: 58550.3945 - val_mean_squared_error: 58550.3945\n",
      "Epoch 6/20\n",
      "40/40 [==============================] - 0s 2ms/step - loss: 55469.9766 - mean_squared_error: 55469.9766 - val_loss: 53166.0000 - val_mean_squared_error: 53166.0000\n",
      "Epoch 7/20\n",
      "40/40 [==============================] - 0s 2ms/step - loss: 49944.3398 - mean_squared_error: 49944.3398 - val_loss: 47327.6641 - val_mean_squared_error: 47327.6641\n",
      "Epoch 8/20\n",
      "40/40 [==============================] - 0s 3ms/step - loss: 44082.4258 - mean_squared_error: 44082.4258 - val_loss: 41344.5000 - val_mean_squared_error: 41344.5000\n",
      "Epoch 9/20\n",
      "40/40 [==============================] - 0s 3ms/step - loss: 38146.7500 - mean_squared_error: 38146.7500 - val_loss: 35302.6172 - val_mean_squared_error: 35302.6172\n",
      "Epoch 10/20\n",
      "40/40 [==============================] - 0s 3ms/step - loss: 32291.6484 - mean_squared_error: 32291.6484 - val_loss: 29459.7773 - val_mean_squared_error: 29459.7773\n",
      "Epoch 11/20\n",
      "40/40 [==============================] - 0s 3ms/step - loss: 26714.8105 - mean_squared_error: 26714.8105 - val_loss: 24016.6953 - val_mean_squared_error: 24016.6953\n",
      "Epoch 12/20\n",
      "40/40 [==============================] - 0s 3ms/step - loss: 21582.0801 - mean_squared_error: 21582.0801 - val_loss: 19122.6895 - val_mean_squared_error: 19122.6895\n",
      "Epoch 13/20\n",
      "40/40 [==============================] - 0s 3ms/step - loss: 17041.9844 - mean_squared_error: 17041.9844 - val_loss: 14797.9951 - val_mean_squared_error: 14797.9951\n",
      "Epoch 14/20\n",
      "40/40 [==============================] - 0s 3ms/step - loss: 13097.5215 - mean_squared_error: 13097.5215 - val_loss: 11239.0596 - val_mean_squared_error: 11239.0596\n",
      "Epoch 15/20\n",
      "40/40 [==============================] - 0s 3ms/step - loss: 9854.3877 - mean_squared_error: 9854.3877 - val_loss: 8334.7852 - val_mean_squared_error: 8334.7852\n",
      "Epoch 16/20\n",
      "40/40 [==============================] - 0s 2ms/step - loss: 7260.2148 - mean_squared_error: 7260.2148 - val_loss: 6065.7788 - val_mean_squared_error: 6065.7788\n",
      "Epoch 17/20\n",
      "40/40 [==============================] - 0s 2ms/step - loss: 5265.0669 - mean_squared_error: 5265.0669 - val_loss: 4383.0723 - val_mean_squared_error: 4383.0723\n",
      "Epoch 18/20\n",
      "40/40 [==============================] - 0s 3ms/step - loss: 3795.3416 - mean_squared_error: 3795.3416 - val_loss: 3186.7727 - val_mean_squared_error: 3186.7727\n",
      "Epoch 19/20\n",
      "40/40 [==============================] - 0s 3ms/step - loss: 2764.2856 - mean_squared_error: 2764.2856 - val_loss: 2361.1072 - val_mean_squared_error: 2361.1072\n",
      "Epoch 20/20\n",
      "40/40 [==============================] - 0s 2ms/step - loss: 2060.6438 - mean_squared_error: 2060.6438 - val_loss: 1835.4592 - val_mean_squared_error: 1835.4592\n"
     ]
    }
   ],
   "source": [
    "h = model.fit(X_train, y_train, epochs=20, batch_size=10, validation_data=(X_test, y_test))\n",
    "#epochs is the number of iterations, batch_size is the number of samples per gradient update and validation_data is the data on which to evaluate the loss and any model metrics at the end of each epoch   "
   ]
  },
  {
   "cell_type": "code",
   "execution_count": 25,
   "metadata": {},
   "outputs": [
    {
     "name": "stdout",
     "output_type": "stream",
     "text": [
      "4/4 [==============================] - 0s 2ms/step\n"
     ]
    }
   ],
   "source": [
    "Y_predic = model.predict(X_test)"
   ]
  },
  {
   "cell_type": "code",
   "execution_count": 26,
   "metadata": {},
   "outputs": [
    {
     "data": {
      "text/plain": [
       "array([[308.2557  ],\n",
       "       [359.08133 ],\n",
       "       [331.25253 ],\n",
       "       [172.38724 ],\n",
       "       [264.25992 ],\n",
       "       [129.19986 ],\n",
       "       [233.76965 ],\n",
       "       [285.6631  ],\n",
       "       [177.47629 ],\n",
       "       [326.59085 ],\n",
       "       [169.17676 ],\n",
       "       [302.35825 ],\n",
       "       [180.68677 ],\n",
       "       [164.63438 ],\n",
       "       [314.12997 ],\n",
       "       [347.5898  ],\n",
       "       [136.75061 ],\n",
       "       [182.7466  ],\n",
       "       [164.89613 ],\n",
       "       [175.33597 ],\n",
       "       [146.8459  ],\n",
       "       [214.91098 ],\n",
       "       [177.73804 ],\n",
       "       [161.16216 ],\n",
       "       [157.14326 ],\n",
       "       [321.2997  ],\n",
       "       [145.31189 ],\n",
       "       [306.31747 ],\n",
       "       [204.14977 ],\n",
       "       [146.58414 ],\n",
       "       [319.48077 ],\n",
       "       [145.51398 ],\n",
       "       [366.24637 ],\n",
       "       [321.62112 ],\n",
       "       [126.049034],\n",
       "       [145.51398 ],\n",
       "       [153.87315 ],\n",
       "       [348.37973 ],\n",
       "       [283.199   ],\n",
       "       [261.85785 ],\n",
       "       [294.76868 ],\n",
       "       [164.63438 ],\n",
       "       [203.13925 ],\n",
       "       [223.27016 ],\n",
       "       [185.95706 ],\n",
       "       [160.35376 ],\n",
       "       [158.21344 ],\n",
       "       [211.70052 ],\n",
       "       [126.10868 ],\n",
       "       [166.77469 ],\n",
       "       [359.08133 ],\n",
       "       [380.47983 ],\n",
       "       [277.1018  ],\n",
       "       [150.46057 ],\n",
       "       [321.62112 ],\n",
       "       [258.64737 ],\n",
       "       [158.47519 ],\n",
       "       [295.75833 ],\n",
       "       [168.10663 ],\n",
       "       [161.42392 ],\n",
       "       [130.32965 ],\n",
       "       [333.07144 ],\n",
       "       [293.73734 ],\n",
       "       [163.82599 ],\n",
       "       [138.95058 ],\n",
       "       [178.54645 ],\n",
       "       [344.49863 ],\n",
       "       [316.0317  ],\n",
       "       [287.1351  ],\n",
       "       [336.60333 ],\n",
       "       [172.12549 ],\n",
       "       [151.93492 ],\n",
       "       [213.63875 ],\n",
       "       [293.3928  ],\n",
       "       [159.2836  ],\n",
       "       [276.61484 ],\n",
       "       [333.07144 ],\n",
       "       [268.27878 ],\n",
       "       [272.07242 ],\n",
       "       [274.6378  ],\n",
       "       [172.12549 ],\n",
       "       [160.35376 ],\n",
       "       [283.84418 ],\n",
       "       [223.27016 ],\n",
       "       [140.16318 ],\n",
       "       [204.14977 ],\n",
       "       [359.07663 ],\n",
       "       [167.84485 ],\n",
       "       [250.02411 ],\n",
       "       [255.37491 ],\n",
       "       [289.80124 ],\n",
       "       [333.07144 ],\n",
       "       [368.18457 ],\n",
       "       [230.76126 ],\n",
       "       [182.88672 ],\n",
       "       [309.87253 ],\n",
       "       [198.79898 ],\n",
       "       [352.51328 ],\n",
       "       [366.24637 ],\n",
       "       [288.26724 ]], dtype=float32)"
      ]
     },
     "execution_count": 26,
     "metadata": {},
     "output_type": "execute_result"
    }
   ],
   "source": [
    "Y_predic"
   ]
  },
  {
   "cell_type": "code",
   "execution_count": 27,
   "metadata": {},
   "outputs": [
    {
     "data": {
      "text/plain": [
       "361    368\n",
       "73     380\n",
       "374    402\n",
       "155    218\n",
       "104    292\n",
       "      ... \n",
       "347    386\n",
       "86     221\n",
       "75     437\n",
       "438    344\n",
       "15     338\n",
       "Name: out1, Length: 100, dtype: int64"
      ]
     },
     "execution_count": 27,
     "metadata": {},
     "output_type": "execute_result"
    }
   ],
   "source": [
    "y_test"
   ]
  },
  {
   "cell_type": "code",
   "execution_count": 29,
   "metadata": {},
   "outputs": [
    {
     "data": {
      "text/plain": [
       "[73994.3515625,\n",
       " 71720.8125,\n",
       " 68717.375,\n",
       " 64935.30078125,\n",
       " 60519.16015625,\n",
       " 55469.9765625,\n",
       " 49944.33984375,\n",
       " 44082.42578125,\n",
       " 38146.75,\n",
       " 32291.6484375,\n",
       " 26714.810546875,\n",
       " 21582.080078125,\n",
       " 17041.984375,\n",
       " 13097.521484375,\n",
       " 9854.3876953125,\n",
       " 7260.21484375,\n",
       " 5265.06689453125,\n",
       " 3795.341552734375,\n",
       " 2764.28564453125,\n",
       " 2060.643798828125]"
      ]
     },
     "execution_count": 29,
     "metadata": {},
     "output_type": "execute_result"
    }
   ],
   "source": [
    "h.history['loss']"
   ]
  },
  {
   "cell_type": "code",
   "execution_count": 30,
   "metadata": {},
   "outputs": [
    {
     "data": {
      "text/plain": [
       "[<matplotlib.lines.Line2D at 0x28f839f73d0>]"
      ]
     },
     "execution_count": 30,
     "metadata": {},
     "output_type": "execute_result"
    },
    {
     "data": {
      "image/png": "[encoded data removed]",
      "text/plain": [
       "<Figure size 432x288 with 1 Axes>"
      ]
     },
     "metadata": {
      "needs_background": "light"
     },
     "output_type": "display_data"
    }
   ],
   "source": [
    "plt.plot(h.history['loss'])"
   ]
  }
 ],
 "metadata": {
  "kernelspec": {
   "display_name": "base",
   "language": "python",
   "name": "python3"
  },
  "language_info": {
   "codemirror_mode": {
    "name": "ipython",
    "version": 3
   },
   "file_extension": ".py",
   "mimetype": "text/x-python",
   "name": "python",
   "nbconvert_exporter": "python",
   "pygments_lexer": "ipython3",
   "version": "3.8.8"
  }
 },
 "nbformat": 4,
 "nbformat_minor": 2
}
